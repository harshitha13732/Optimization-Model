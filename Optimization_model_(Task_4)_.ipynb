{
  "nbformat": 4,
  "nbformat_minor": 0,
  "metadata": {
    "colab": {
      "provenance": [],
      "authorship_tag": "ABX9TyNWCZIQfNrJHsQaNVknY4Ku",
      "include_colab_link": true
    },
    "kernelspec": {
      "name": "python3",
      "display_name": "Python 3"
    },
    "language_info": {
      "name": "python"
    }
  },
  "cells": [
    {
      "cell_type": "markdown",
      "metadata": {
        "id": "view-in-github",
        "colab_type": "text"
      },
      "source": [
        "<a href=\"https://colab.research.google.com/github/harshitha13732/Optimization-Model/blob/main/Optimization_model_(Task_4)_.ipynb\" target=\"_parent\"><img src=\"https://colab.research.google.com/assets/colab-badge.svg\" alt=\"Open In Colab\"/></a>"
      ]
    },
    {
      "cell_type": "markdown",
      "source": [
        "# Import & Installing\n"
      ],
      "metadata": {
        "id": "6xlbU9K26wZC"
      }
    },
    {
      "cell_type": "code",
      "execution_count": 1,
      "metadata": {
        "id": "4unxZsrz0q2_"
      },
      "outputs": [],
      "source": [
        "import importlib, subprocess, sys\n",
        "def install_if_missing(pkg_name, import_name=None):\n",
        "  module = import_name or pkg_name\n",
        "  try:\n",
        "    importlib.import_module(module)\n",
        "  except ImportError:\n",
        "    subprocess.check_call([sys.executable, \"-m\", \"pip\", \"install\", pkg_name])"
      ]
    },
    {
      "cell_type": "code",
      "source": [
        "install_if_missing('pulp')\n",
        "import pandas as pd\n",
        "import matplotlib.pyplot as plt\n",
        "from pulp import LpProblem, LpVariable, LpMaximize, lpSum, PULP_CBC_CMD, LpStatus, value, LpInteger"
      ],
      "metadata": {
        "id": "kA6QadMi6sGo"
      },
      "execution_count": 2,
      "outputs": []
    },
    {
      "cell_type": "markdown",
      "source": [
        "# Problem def % Tidy Data\n"
      ],
      "metadata": {
        "id": "KeqsdXpWB2Ma"
      }
    },
    {
      "cell_type": "code",
      "source": [
        "products = [\"Bread\", \"Cake\", \"Pastry\"]\n",
        "\n",
        "params = pd.DataFrame({\n",
        "    \"product\": products,\n",
        "    \"profit\": [5.0, 8.0, 6.0],\n",
        "    \"labour_hours\": [0.5, 1.0, 0.7],\n",
        "    \"oven_hours\": [0.2, 0.5, 0.3],\n",
        "    \"flour_kg\": [0.3, 0.7, 0.4],\n",
        "    \"demand_max\": [200, 80, 150]\n",
        "})\n",
        "capacities = {\"labour_hours\": 100, \"oven_hours\": 50, \"flour_kg\":60}"
      ],
      "metadata": {
        "id": "UCBJQa2IAmDL"
      },
      "execution_count": 3,
      "outputs": []
    },
    {
      "cell_type": "markdown",
      "source": [
        "# Building solve_bakery_lp\n",
        "# Running the continuous LP & Interpreting results"
      ],
      "metadata": {
        "id": "taNLCaF9KCJi"
      }
    },
    {
      "cell_type": "code",
      "source": [
        "model_cont, vars_cont, obj_cont, status_cont, results_cont_df = solve_bakery_lp(params, capacities, integer=False)"
      ],
      "metadata": {
        "id": "giHtlzeeJkoc"
      },
      "execution_count": 6,
      "outputs": []
    },
    {
      "cell_type": "code",
      "metadata": {
        "id": "d9c04be2"
      },
      "source": [
        "def solve_bakery_lp(params, capacities, integer=True):\n",
        "    \"\"\"\n",
        "    Solves the bakery production linear programming problem.\n",
        "\n",
        "    Args:\n",
        "        params (pd.DataFrame): DataFrame containing product parameters.\n",
        "        capacities (dict): Dictionary of resource capacities.\n",
        "        integer (bool): Whether to use integer variables (for IP) or continuous variables (for LP).\n",
        "\n",
        "    Returns:\n",
        "        tuple: A tuple containing:\n",
        "            - model (LpProblem): The solved PuLP model.\n",
        "            - vars (dict): A dictionary of the decision variables.\n",
        "            - obj (float or None): The optimal objective value (total profit), or None if not optimal.\n",
        "            - status (str): The status of the solution.\n",
        "            - results_df (pd.DataFrame): DataFrame summarizing the production results.\n",
        "    \"\"\"\n",
        "    model = LpProblem(\"Bakery_Production\", LpMaximize) # model creation\n",
        "\n",
        "    cat = LpInteger if integer else None\n",
        "    vars = {}\n",
        "    products = params[\"product\"].tolist()\n",
        "    for p in products:\n",
        "        ub = float(params.loc[params[\"product\"] == p, \"demand_max\"].iloc[0])\n",
        "        vars[p] = LpVariable(f\"prod_{p}\", lowBound=0, upBound=ub, cat=cat)\n",
        "\n",
        "    # Objective\n",
        "    profit_expr = lpSum([vars[p] * float(params.loc[params[\"product\"] == p, \"profit\"].iloc[0])\n",
        "      for p in products])\n",
        "    model += profit_expr, \"Total_profit\"\n",
        "\n",
        "    # Constraints (resource limits)\n",
        "    model += lpSum([vars[p] * float(params.loc[params[\"product\"] == p, \"labour_hours\"].iloc[0]) for p in products]) <= capacities[\"labour_hours\"], \"Labour_Limit\"\n",
        "    model += lpSum([vars[p] * float(params.loc[params[\"product\"] == p, \"oven_hours\"].iloc[0]) for p in products]) <= capacities[\"oven_hours\"], \"Oven_Limit\"\n",
        "    model += lpSum([vars[p] * float(params.loc[params[\"product\"] == p, \"flour_kg\"].iloc[0]) for p in products]) <= capacities[\"flour_kg\"], \"Flour_Limit\"\n",
        "\n",
        "    # solve\n",
        "    solver_msg = False\n",
        "    solver = PULP_CBC_CMD(msg=solver_msg)\n",
        "    model.solve(solver)\n",
        "\n",
        "    # Results Extraction\n",
        "    status = LpStatus[model.status]\n",
        "    obj = None  # Initialize objective to None\n",
        "    results = []\n",
        "\n",
        "    if model.status == 1:  # Check if the solution status is Optimal\n",
        "        obj = value(model.objective)\n",
        "        for p in products:\n",
        "            val = vars[p].varValue\n",
        "            profit_contrib = val * float(params.loc[params[\"product\"] == p, \"profit\"].iloc[0])\n",
        "            results.append({\"Product\": p, \"Optimal Value\": val, \"Profit Contribution\": profit_contrib})\n",
        "    else:\n",
        "        # If not optimal, populate results_df with default values or indicators\n",
        "        for p in products:\n",
        "             results.append({\"Product\": p, \"Optimal Value\": None, \"Profit Contribution\": None})\n",
        "\n",
        "\n",
        "    results_df = pd.DataFrame(results)\n",
        "\n",
        "    return model, vars, obj, status, results_df"
      ],
      "execution_count": 5,
      "outputs": []
    },
    {
      "cell_type": "code",
      "metadata": {
        "colab": {
          "base_uri": "https://localhost:8080/",
          "height": 195
        },
        "id": "21b58b63",
        "outputId": "ae36b960-9cff-48c1-bde6-6821e982ebb2"
      },
      "source": [
        "# Solve the integer programming problem using the defined function\n",
        "model_int, vars_int, obj_int, status_int, results_int_df = solve_bakery_lp(params, capacities, integer=True)\n",
        "\n",
        "# Display the results for the integer programming problem\n",
        "print(\"Integer Programming Results:\")\n",
        "print(\"Status:\", status_int)\n",
        "print(\"Total Profit:\", obj_int)\n",
        "display(results_int_df)"
      ],
      "execution_count": 7,
      "outputs": [
        {
          "output_type": "stream",
          "name": "stdout",
          "text": [
            "Integer Programming Results:\n",
            "Status: Optimal\n",
            "Total Profit: 1000.0\n"
          ]
        },
        {
          "output_type": "display_data",
          "data": {
            "text/plain": [
              "  Product  Optimal Value  Profit Contribution\n",
              "0   Bread          200.0               1000.0\n",
              "1    Cake            0.0                  0.0\n",
              "2  Pastry            0.0                  0.0"
            ],
            "text/html": [
              "\n",
              "  <div id=\"df-114494f0-35fc-4b2c-a983-e8cc46244292\" class=\"colab-df-container\">\n",
              "    <div>\n",
              "<style scoped>\n",
              "    .dataframe tbody tr th:only-of-type {\n",
              "        vertical-align: middle;\n",
              "    }\n",
              "\n",
              "    .dataframe tbody tr th {\n",
              "        vertical-align: top;\n",
              "    }\n",
              "\n",
              "    .dataframe thead th {\n",
              "        text-align: right;\n",
              "    }\n",
              "</style>\n",
              "<table border=\"1\" class=\"dataframe\">\n",
              "  <thead>\n",
              "    <tr style=\"text-align: right;\">\n",
              "      <th></th>\n",
              "      <th>Product</th>\n",
              "      <th>Optimal Value</th>\n",
              "      <th>Profit Contribution</th>\n",
              "    </tr>\n",
              "  </thead>\n",
              "  <tbody>\n",
              "    <tr>\n",
              "      <th>0</th>\n",
              "      <td>Bread</td>\n",
              "      <td>200.0</td>\n",
              "      <td>1000.0</td>\n",
              "    </tr>\n",
              "    <tr>\n",
              "      <th>1</th>\n",
              "      <td>Cake</td>\n",
              "      <td>0.0</td>\n",
              "      <td>0.0</td>\n",
              "    </tr>\n",
              "    <tr>\n",
              "      <th>2</th>\n",
              "      <td>Pastry</td>\n",
              "      <td>0.0</td>\n",
              "      <td>0.0</td>\n",
              "    </tr>\n",
              "  </tbody>\n",
              "</table>\n",
              "</div>\n",
              "    <div class=\"colab-df-buttons\">\n",
              "\n",
              "  <div class=\"colab-df-container\">\n",
              "    <button class=\"colab-df-convert\" onclick=\"convertToInteractive('df-114494f0-35fc-4b2c-a983-e8cc46244292')\"\n",
              "            title=\"Convert this dataframe to an interactive table.\"\n",
              "            style=\"display:none;\">\n",
              "\n",
              "  <svg xmlns=\"http://www.w3.org/2000/svg\" height=\"24px\" viewBox=\"0 -960 960 960\">\n",
              "    <path d=\"M120-120v-720h720v720H120Zm60-500h600v-160H180v160Zm220 220h160v-160H400v160Zm0 220h160v-160H400v160ZM180-400h160v-160H180v160Zm440 0h160v-160H620v160ZM180-180h160v-160H180v160Zm440 0h160v-160H620v160Z\"/>\n",
              "  </svg>\n",
              "    </button>\n",
              "\n",
              "  <style>\n",
              "    .colab-df-container {\n",
              "      display:flex;\n",
              "      gap: 12px;\n",
              "    }\n",
              "\n",
              "    .colab-df-convert {\n",
              "      background-color: #E8F0FE;\n",
              "      border: none;\n",
              "      border-radius: 50%;\n",
              "      cursor: pointer;\n",
              "      display: none;\n",
              "      fill: #1967D2;\n",
              "      height: 32px;\n",
              "      padding: 0 0 0 0;\n",
              "      width: 32px;\n",
              "    }\n",
              "\n",
              "    .colab-df-convert:hover {\n",
              "      background-color: #E2EBFA;\n",
              "      box-shadow: 0px 1px 2px rgba(60, 64, 67, 0.3), 0px 1px 3px 1px rgba(60, 64, 67, 0.15);\n",
              "      fill: #174EA6;\n",
              "    }\n",
              "\n",
              "    .colab-df-buttons div {\n",
              "      margin-bottom: 4px;\n",
              "    }\n",
              "\n",
              "    [theme=dark] .colab-df-convert {\n",
              "      background-color: #3B4455;\n",
              "      fill: #D2E3FC;\n",
              "    }\n",
              "\n",
              "    [theme=dark] .colab-df-convert:hover {\n",
              "      background-color: #434B5C;\n",
              "      box-shadow: 0px 1px 3px 1px rgba(0, 0, 0, 0.15);\n",
              "      filter: drop-shadow(0px 1px 2px rgba(0, 0, 0, 0.3));\n",
              "      fill: #FFFFFF;\n",
              "    }\n",
              "  </style>\n",
              "\n",
              "    <script>\n",
              "      const buttonEl =\n",
              "        document.querySelector('#df-114494f0-35fc-4b2c-a983-e8cc46244292 button.colab-df-convert');\n",
              "      buttonEl.style.display =\n",
              "        google.colab.kernel.accessAllowed ? 'block' : 'none';\n",
              "\n",
              "      async function convertToInteractive(key) {\n",
              "        const element = document.querySelector('#df-114494f0-35fc-4b2c-a983-e8cc46244292');\n",
              "        const dataTable =\n",
              "          await google.colab.kernel.invokeFunction('convertToInteractive',\n",
              "                                                    [key], {});\n",
              "        if (!dataTable) return;\n",
              "\n",
              "        const docLinkHtml = 'Like what you see? Visit the ' +\n",
              "          '<a target=\"_blank\" href=https://colab.research.google.com/notebooks/data_table.ipynb>data table notebook</a>'\n",
              "          + ' to learn more about interactive tables.';\n",
              "        element.innerHTML = '';\n",
              "        dataTable['output_type'] = 'display_data';\n",
              "        await google.colab.output.renderOutput(dataTable, element);\n",
              "        const docLink = document.createElement('div');\n",
              "        docLink.innerHTML = docLinkHtml;\n",
              "        element.appendChild(docLink);\n",
              "      }\n",
              "    </script>\n",
              "  </div>\n",
              "\n",
              "\n",
              "    <div id=\"df-a930d08f-c3d9-4521-ac2d-15deb3a6d06c\">\n",
              "      <button class=\"colab-df-quickchart\" onclick=\"quickchart('df-a930d08f-c3d9-4521-ac2d-15deb3a6d06c')\"\n",
              "                title=\"Suggest charts\"\n",
              "                style=\"display:none;\">\n",
              "\n",
              "<svg xmlns=\"http://www.w3.org/2000/svg\" height=\"24px\"viewBox=\"0 0 24 24\"\n",
              "     width=\"24px\">\n",
              "    <g>\n",
              "        <path d=\"M19 3H5c-1.1 0-2 .9-2 2v14c0 1.1.9 2 2 2h14c1.1 0 2-.9 2-2V5c0-1.1-.9-2-2-2zM9 17H7v-7h2v7zm4 0h-2V7h2v10zm4 0h-2v-4h2v4z\"/>\n",
              "    </g>\n",
              "</svg>\n",
              "      </button>\n",
              "\n",
              "<style>\n",
              "  .colab-df-quickchart {\n",
              "      --bg-color: #E8F0FE;\n",
              "      --fill-color: #1967D2;\n",
              "      --hover-bg-color: #E2EBFA;\n",
              "      --hover-fill-color: #174EA6;\n",
              "      --disabled-fill-color: #AAA;\n",
              "      --disabled-bg-color: #DDD;\n",
              "  }\n",
              "\n",
              "  [theme=dark] .colab-df-quickchart {\n",
              "      --bg-color: #3B4455;\n",
              "      --fill-color: #D2E3FC;\n",
              "      --hover-bg-color: #434B5C;\n",
              "      --hover-fill-color: #FFFFFF;\n",
              "      --disabled-bg-color: #3B4455;\n",
              "      --disabled-fill-color: #666;\n",
              "  }\n",
              "\n",
              "  .colab-df-quickchart {\n",
              "    background-color: var(--bg-color);\n",
              "    border: none;\n",
              "    border-radius: 50%;\n",
              "    cursor: pointer;\n",
              "    display: none;\n",
              "    fill: var(--fill-color);\n",
              "    height: 32px;\n",
              "    padding: 0;\n",
              "    width: 32px;\n",
              "  }\n",
              "\n",
              "  .colab-df-quickchart:hover {\n",
              "    background-color: var(--hover-bg-color);\n",
              "    box-shadow: 0 1px 2px rgba(60, 64, 67, 0.3), 0 1px 3px 1px rgba(60, 64, 67, 0.15);\n",
              "    fill: var(--button-hover-fill-color);\n",
              "  }\n",
              "\n",
              "  .colab-df-quickchart-complete:disabled,\n",
              "  .colab-df-quickchart-complete:disabled:hover {\n",
              "    background-color: var(--disabled-bg-color);\n",
              "    fill: var(--disabled-fill-color);\n",
              "    box-shadow: none;\n",
              "  }\n",
              "\n",
              "  .colab-df-spinner {\n",
              "    border: 2px solid var(--fill-color);\n",
              "    border-color: transparent;\n",
              "    border-bottom-color: var(--fill-color);\n",
              "    animation:\n",
              "      spin 1s steps(1) infinite;\n",
              "  }\n",
              "\n",
              "  @keyframes spin {\n",
              "    0% {\n",
              "      border-color: transparent;\n",
              "      border-bottom-color: var(--fill-color);\n",
              "      border-left-color: var(--fill-color);\n",
              "    }\n",
              "    20% {\n",
              "      border-color: transparent;\n",
              "      border-left-color: var(--fill-color);\n",
              "      border-top-color: var(--fill-color);\n",
              "    }\n",
              "    30% {\n",
              "      border-color: transparent;\n",
              "      border-left-color: var(--fill-color);\n",
              "      border-top-color: var(--fill-color);\n",
              "      border-right-color: var(--fill-color);\n",
              "    }\n",
              "    40% {\n",
              "      border-color: transparent;\n",
              "      border-right-color: var(--fill-color);\n",
              "      border-top-color: var(--fill-color);\n",
              "    }\n",
              "    60% {\n",
              "      border-color: transparent;\n",
              "      border-right-color: var(--fill-color);\n",
              "    }\n",
              "    80% {\n",
              "      border-color: transparent;\n",
              "      border-right-color: var(--fill-color);\n",
              "      border-bottom-color: var(--fill-color);\n",
              "    }\n",
              "    90% {\n",
              "      border-color: transparent;\n",
              "      border-bottom-color: var(--fill-color);\n",
              "    }\n",
              "  }\n",
              "</style>\n",
              "\n",
              "      <script>\n",
              "        async function quickchart(key) {\n",
              "          const quickchartButtonEl =\n",
              "            document.querySelector('#' + key + ' button');\n",
              "          quickchartButtonEl.disabled = true;  // To prevent multiple clicks.\n",
              "          quickchartButtonEl.classList.add('colab-df-spinner');\n",
              "          try {\n",
              "            const charts = await google.colab.kernel.invokeFunction(\n",
              "                'suggestCharts', [key], {});\n",
              "          } catch (error) {\n",
              "            console.error('Error during call to suggestCharts:', error);\n",
              "          }\n",
              "          quickchartButtonEl.classList.remove('colab-df-spinner');\n",
              "          quickchartButtonEl.classList.add('colab-df-quickchart-complete');\n",
              "        }\n",
              "        (() => {\n",
              "          let quickchartButtonEl =\n",
              "            document.querySelector('#df-a930d08f-c3d9-4521-ac2d-15deb3a6d06c button');\n",
              "          quickchartButtonEl.style.display =\n",
              "            google.colab.kernel.accessAllowed ? 'block' : 'none';\n",
              "        })();\n",
              "      </script>\n",
              "    </div>\n",
              "\n",
              "  <div id=\"id_65486241-0804-4de6-aa11-f4dc53c16183\">\n",
              "    <style>\n",
              "      .colab-df-generate {\n",
              "        background-color: #E8F0FE;\n",
              "        border: none;\n",
              "        border-radius: 50%;\n",
              "        cursor: pointer;\n",
              "        display: none;\n",
              "        fill: #1967D2;\n",
              "        height: 32px;\n",
              "        padding: 0 0 0 0;\n",
              "        width: 32px;\n",
              "      }\n",
              "\n",
              "      .colab-df-generate:hover {\n",
              "        background-color: #E2EBFA;\n",
              "        box-shadow: 0px 1px 2px rgba(60, 64, 67, 0.3), 0px 1px 3px 1px rgba(60, 64, 67, 0.15);\n",
              "        fill: #174EA6;\n",
              "      }\n",
              "\n",
              "      [theme=dark] .colab-df-generate {\n",
              "        background-color: #3B4455;\n",
              "        fill: #D2E3FC;\n",
              "      }\n",
              "\n",
              "      [theme=dark] .colab-df-generate:hover {\n",
              "        background-color: #434B5C;\n",
              "        box-shadow: 0px 1px 3px 1px rgba(0, 0, 0, 0.15);\n",
              "        filter: drop-shadow(0px 1px 2px rgba(0, 0, 0, 0.3));\n",
              "        fill: #FFFFFF;\n",
              "      }\n",
              "    </style>\n",
              "    <button class=\"colab-df-generate\" onclick=\"generateWithVariable('results_int_df')\"\n",
              "            title=\"Generate code using this dataframe.\"\n",
              "            style=\"display:none;\">\n",
              "\n",
              "  <svg xmlns=\"http://www.w3.org/2000/svg\" height=\"24px\"viewBox=\"0 0 24 24\"\n",
              "       width=\"24px\">\n",
              "    <path d=\"M7,19H8.4L18.45,9,17,7.55,7,17.6ZM5,21V16.75L18.45,3.32a2,2,0,0,1,2.83,0l1.4,1.43a1.91,1.91,0,0,1,.58,1.4,1.91,1.91,0,0,1-.58,1.4L9.25,21ZM18.45,9,17,7.55Zm-12,3A5.31,5.31,0,0,0,4.9,8.1,5.31,5.31,0,0,0,1,6.5,5.31,5.31,0,0,0,4.9,4.9,5.31,5.31,0,0,0,6.5,1,5.31,5.31,0,0,0,8.1,4.9,5.31,5.31,0,0,0,12,6.5,5.46,5.46,0,0,0,6.5,12Z\"/>\n",
              "  </svg>\n",
              "    </button>\n",
              "    <script>\n",
              "      (() => {\n",
              "      const buttonEl =\n",
              "        document.querySelector('#id_65486241-0804-4de6-aa11-f4dc53c16183 button.colab-df-generate');\n",
              "      buttonEl.style.display =\n",
              "        google.colab.kernel.accessAllowed ? 'block' : 'none';\n",
              "\n",
              "      buttonEl.onclick = () => {\n",
              "        google.colab.notebook.generateWithVariable('results_int_df');\n",
              "      }\n",
              "      })();\n",
              "    </script>\n",
              "  </div>\n",
              "\n",
              "    </div>\n",
              "  </div>\n"
            ],
            "application/vnd.google.colaboratory.intrinsic+json": {
              "type": "dataframe",
              "variable_name": "results_int_df",
              "summary": "{\n  \"name\": \"results_int_df\",\n  \"rows\": 3,\n  \"fields\": [\n    {\n      \"column\": \"Product\",\n      \"properties\": {\n        \"dtype\": \"string\",\n        \"num_unique_values\": 3,\n        \"samples\": [\n          \"Bread\",\n          \"Cake\",\n          \"Pastry\"\n        ],\n        \"semantic_type\": \"\",\n        \"description\": \"\"\n      }\n    },\n    {\n      \"column\": \"Optimal Value\",\n      \"properties\": {\n        \"dtype\": \"number\",\n        \"std\": 115.47005383792515,\n        \"min\": 0.0,\n        \"max\": 200.0,\n        \"num_unique_values\": 2,\n        \"samples\": [\n          0.0,\n          200.0\n        ],\n        \"semantic_type\": \"\",\n        \"description\": \"\"\n      }\n    },\n    {\n      \"column\": \"Profit Contribution\",\n      \"properties\": {\n        \"dtype\": \"number\",\n        \"std\": 577.3502691896258,\n        \"min\": 0.0,\n        \"max\": 1000.0,\n        \"num_unique_values\": 2,\n        \"samples\": [\n          0.0,\n          1000.0\n        ],\n        \"semantic_type\": \"\",\n        \"description\": \"\"\n      }\n    }\n  ]\n}"
            }
          },
          "metadata": {}
        }
      ]
    },
    {
      "cell_type": "markdown",
      "source": [
        "# Visualize & Export results"
      ],
      "metadata": {
        "id": "sCk15KqVNPZt"
      }
    },
    {
      "cell_type": "code",
      "source": [
        "results_cont_df.plot(kind='bar', x='Product', y='Optimal Value', legend=False)\n",
        "plt.title('Optimal Production Quantity (Continuous LP)')\n",
        "plt.ylabel('Quantity')\n",
        "plt.xlabel('Product')\n",
        "plt.show()\n",
        "\n",
        "results_cont_df.plot(kind='bar', x='Product', y='Profit Contribution', legend=False, color='green')\n",
        "plt.title('Profit Contribution per Product (Continuous LP)')\n",
        "plt.ylabel('Profit Contribution')\n",
        "plt.xlabel('Product')\n",
        "plt.show()"
      ],
      "metadata": {
        "colab": {
          "base_uri": "https://localhost:8080/",
          "height": 985
        },
        "id": "HRcNeEWwM9H8",
        "outputId": "fa38286a-e463-4031-f9fb-f5d0b83b00ca"
      },
      "execution_count": 8,
      "outputs": [
        {
          "output_type": "display_data",
          "data": {
            "text/plain": [
              "<Figure size 640x480 with 1 Axes>"
            ],
            "image/png": "[encoded data removed]"
          },
          "metadata": {}
        },
        {
          "output_type": "display_data",
          "data": {
            "text/plain": [
              "<Figure size 640x480 with 1 Axes>"
            ],
            "image/png": "[encoded data removed]"
          },
          "metadata": {}
        }
      ]
    },
    {
      "cell_type": "code",
      "source": [
        "# Export\n",
        "results_cont_df.to_csv('bakery_results_continuous.csv', index=False)"
      ],
      "metadata": {
        "id": "kwqyeSPENqYi"
      },
      "execution_count": null,
      "outputs": []
    },
    {
      "cell_type": "markdown",
      "source": [
        "# Integer (MIP) sol & comparision"
      ],
      "metadata": {
        "id": "rvJnPaiYOjHD"
      }
    },
    {
      "cell_type": "code",
      "source": [
        "model_int, vars_int, obj_int, status_int, results_int_df = solve_bakery_lp(params, capacities, integer=True)"
      ],
      "metadata": {
        "id": "8E11YtX_OJYO"
      },
      "execution_count": 9,
      "outputs": []
    },
    {
      "cell_type": "markdown",
      "source": [
        "# Sensitivity analysis"
      ],
      "metadata": {
        "id": "Nm5Qt1x5O8B6"
      }
    },
    {
      "cell_type": "code",
      "source": [
        "# Define the range for labour hours sensitivity analysis\n",
        "labour_range = range(80, 121, 5) # Example range: from 80 to 120 in steps of 5\n",
        "\n",
        "# Define base capacities\n",
        "base_capacities = capacities.copy()\n",
        "\n",
        "objs = []\n",
        "for cap in labour_range:\n",
        "  caps = base_capacities.copy()\n",
        "  caps['labour_hours'] = cap\n",
        "  _, _, obj_val, _, _ = solve_bakery_lp(params, caps, integer= False)\n",
        "  objs.append(obj_val)"
      ],
      "metadata": {
        "id": "UcpDByjdO2mB"
      },
      "execution_count": 10,
      "outputs": []
    },
    {
      "cell_type": "markdown",
      "source": [
        "# Report & resource usage"
      ],
      "metadata": {
        "id": "aNBuq3LNPkHp"
      }
    },
    {
      "cell_type": "code",
      "source": [
        "# Calculate resource usage based on continuous LP results\n",
        "usage = {}\n",
        "labour_used = 0\n",
        "oven_used = 0\n",
        "flour_used = 0\n",
        "\n",
        "for index, row in results_cont_df.iterrows():\n",
        "    product = row['Product']\n",
        "    optimal_value = row['Optimal Value']\n",
        "\n",
        "    # Find the corresponding parameters for the product\n",
        "    param_row = params[params['product'] == product].iloc[0]\n",
        "\n",
        "    labour_used += param_row['labour_hours'] * optimal_value\n",
        "    oven_used += param_row['oven_hours'] * optimal_value\n",
        "    flour_used += param_row['flour_kg'] * optimal_value\n",
        "\n",
        "usage['labour_used'] = labour_used\n",
        "usage['oven_used'] = oven_used\n",
        "usage['flour_used'] = flour_used\n",
        "\n",
        "\n",
        "# Calculate slack for labour hours\n",
        "slack = capacities['labour_hours'] - usage['labour_used']\n",
        "\n",
        "# You can calculate slack for other resources similarly\n",
        "# slack_oven = capacities['oven_hours'] - usage['oven_used']\n",
        "# slack_flour = capacities['flour_kg'] - usage['flour_used']\n",
        "\n",
        "print(\"Resource Usage (Continuous LP):\")\n",
        "print(f\"Labour Used: {usage['labour_used']:.2f} out of {capacities['labour_hours']}\")\n",
        "print(f\"Labour Slack: {slack:.2f}\")\n",
        "\n",
        "# You can print usage and slack for other resources here\n",
        "# print(f\"Oven Used: {usage['oven_used']:.2f} out of {capacities['oven_hours']}\")\n",
        "# print(f\"Oven Slack: {slack_oven:.2f}\")\n",
        "# print(f\"Flour Used: {usage['flour_used']:.2f} out of {capacities['flour_kg']}\")\n",
        "# print(f\"Flour Slack: {slack_flour:.2f}\")"
      ],
      "metadata": {
        "colab": {
          "base_uri": "https://localhost:8080/"
        },
        "id": "qB9-wdvtPX6k",
        "outputId": "c93e3aea-f333-4501-ca22-4e28dd9abf63"
      },
      "execution_count": 11,
      "outputs": [
        {
          "output_type": "stream",
          "name": "stdout",
          "text": [
            "Resource Usage (Continuous LP):\n",
            "Labour Used: 100.00 out of 100\n",
            "Labour Slack: 0.00\n"
          ]
        }
      ]
    }
  ]
}